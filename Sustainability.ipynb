from SPARQLWrapper import SPARQLWrapper, JSON

def assess_sustainability(endpoint_url):
    sparql = SPARQLWrapper(endpoint_url)
    sparql.setReturnFormat(JSON)

    def count_query(query):
        sparql.setQuery(query)
        results = sparql.query().convert()
        return int(results["results"]["bindings"][0]["count"]["value"])

    total_ontologies_query = """
    SELECT (COUNT(DISTINCT ?ont) AS ?count) WHERE {
      ?ont a <http://www.w3.org/2002/07/owl#Ontology> .
    }
    """

    license_query = """
    SELECT (COUNT(DISTINCT ?ont) AS ?count) WHERE {
      ?ont a <http://www.w3.org/2002/07/owl#Ontology> ;
            <http://purl.org/dc/terms/license> ?license .
    }
    """

    version_query = """
    SELECT (COUNT(DISTINCT ?ont) AS ?count) WHERE {
      ?ont a <http://www.w3.org/2002/07/owl#Ontology> ;
            <http://www.w3.org/2002/07/owl#versionInfo> ?v .
    }
    """

    try:
        total = count_query(total_ontologies_query)
        licensed = count_query(license_query)
        versioned = count_query(version_query)

        license_ratio = licensed / total if total else 0
        version_ratio = versioned / total if total else 0
        score = license_ratio + version_ratio

        if score >= 0.9:
            level = "High"
        elif score >= 0.5:
            level = "Medium"
        else:
            level = "Low"

        return {
            "Endpoint": endpoint_url,
            "Number of ontologies": total,
            "ontology_with_license": licensed,
            "ontology_with_version": versioned,
            "license_ratio": round(license_ratio, 2),
            "version_ratio": round(version_ratio, 2),
            "combined_score": round(score, 2),
            "sustainability_level": level
        }

    except Exception as e:
        return {"Endpoint": endpoint_url, "error": str(e)}


bioportal_result = {
    "Endpoint": "BioPortal (manual entry)",
    "Number of selected ontologies": 10,
    "ontology_with_license": 9,
    "ontology_with_version": 10,
    "license_ratio": 0.9,
    "version_ratio": 1.0,
    "combined_score": 1.9,
    "sustainability_level": "High"
}

clariah_result = {
    "Endpoint": "CLARIAH (manual entry)",
    "Number of selected ontologies": 10,
    "ontology_with_license": 10,
    "ontology_with_version": 10,
    "license_ratio": 1.0,
    "version_ratio": 1.0,
    "combined_score": 2.0,
    "sustainability_level": "High"
}

bartoc_result = {
    "Endpoint": "BARTOC (manual entry)",
    "Number of selected ontologies": 10,
    "ontology_with_license": 7,
    "ontology_with_version": 0,
    "license_ratio": 0.7,
    "version_ratio": 0.0,
    "combined_score": 0.7,
    "sustainability_level": "Medium"
}

def print_result(name, result):
    print(f"\n{name}:")
    for k, v in result.items():
        print(f"{k}: {v}")

if __name__ == "__main__":
    lov_result = assess_sustainability("https://lov.linkeddata.es/dataset/lov/sparql")
    gesis_result = assess_sustainability("https://data.gesis.org/gesiskg/sparql")

    print_result("LOV", lov_result)
    print_result("GESIS", gesis_result)
    print_result("BioPortal", bioportal_result)
    print_result("CLARIAH", clariah_result)
    print_result("BARTOC", bartoc_result)
